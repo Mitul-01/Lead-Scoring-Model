{
 "cells": [
  {
   "cell_type": "code",
   "execution_count": 54,
   "id": "4f75e245",
   "metadata": {},
   "outputs": [],
   "source": [
    "import pandas as pd\n",
    "import numpy as np\n",
    "import seaborn as sns\n",
    "import matplotlib.pyplot as plt\n",
    "from sklearn.preprocessing import LabelEncoder\n",
    "from imblearn.combine import SMOTETomek\n",
    "from sklearn.model_selection import train_test_split\n",
    "from sklearn.linear_model import LogisticRegression\n",
    "from sklearn.neighbors import KNeighborsClassifier\n",
    "from sklearn.tree import DecisionTreeClassifier\n",
    "from sklearn.ensemble import RandomForestClassifier\n",
    "from sklearn.metrics import accuracy_score, precision_score, recall_score, f1_score, ConfusionMatrixDisplay,classification_report\n",
    "import warnings\n",
    "warnings.filterwarnings(\"ignore\")"
   ]
  },
  {
   "cell_type": "code",
   "execution_count": 55,
   "id": "22472df8",
   "metadata": {},
   "outputs": [],
   "source": [
    "df = pd.read_excel(\"Data_Science_Internship.xlsx\")"
   ]
  },
  {
   "cell_type": "code",
   "execution_count": 3,
   "id": "45353baf",
   "metadata": {},
   "outputs": [
    {
     "data": {
      "text/html": [
       "<div>\n",
       "<style scoped>\n",
       "    .dataframe tbody tr th:only-of-type {\n",
       "        vertical-align: middle;\n",
       "    }\n",
       "\n",
       "    .dataframe tbody tr th {\n",
       "        vertical-align: top;\n",
       "    }\n",
       "\n",
       "    .dataframe thead th {\n",
       "        text-align: right;\n",
       "    }\n",
       "</style>\n",
       "<table border=\"1\" class=\"dataframe\">\n",
       "  <thead>\n",
       "    <tr style=\"text-align: right;\">\n",
       "      <th></th>\n",
       "      <th>Unnamed: 0</th>\n",
       "      <th>Agent_id</th>\n",
       "      <th>status</th>\n",
       "      <th>lost_reason</th>\n",
       "      <th>budget</th>\n",
       "      <th>lease</th>\n",
       "      <th>movein</th>\n",
       "      <th>source</th>\n",
       "      <th>source_city</th>\n",
       "      <th>source_country</th>\n",
       "      <th>utm_source</th>\n",
       "      <th>utm_medium</th>\n",
       "      <th>des_city</th>\n",
       "      <th>des_country</th>\n",
       "      <th>room_type</th>\n",
       "      <th>lead_id</th>\n",
       "    </tr>\n",
       "  </thead>\n",
       "  <tbody>\n",
       "    <tr>\n",
       "      <th>0</th>\n",
       "      <td>0</td>\n",
       "      <td>1deba9e96f404694373de9749ddd1ca8aa7bb823145a6f...</td>\n",
       "      <td>LOST</td>\n",
       "      <td>Not responding</td>\n",
       "      <td>NaN</td>\n",
       "      <td>NaN</td>\n",
       "      <td>NaT</td>\n",
       "      <td>9b2d5b4678781e53038e91ea5324530a03f27dc1d0e5f6...</td>\n",
       "      <td>9b2d5b4678781e53038e91ea5324530a03f27dc1d0e5f6...</td>\n",
       "      <td>9b2d5b4678781e53038e91ea5324530a03f27dc1d0e5f6...</td>\n",
       "      <td>3d59f7548e1af2151b64135003ce63c0a484c26b9b8b16...</td>\n",
       "      <td>268ad70eb5bc4737a2ae28162cbca30118cc94520e49ef...</td>\n",
       "      <td>ecc0e7dc084f141b29479058967d0bc07dee25d9690a98...</td>\n",
       "      <td>8d23a6e37e0a6431a8f1b43a91026dcff51170a89a6512...</td>\n",
       "      <td>NaN</td>\n",
       "      <td>cd5dc0d9393f3980d11d4ba6f88f8110c2b7a7f7796307...</td>\n",
       "    </tr>\n",
       "    <tr>\n",
       "      <th>1</th>\n",
       "      <td>1</td>\n",
       "      <td>299ae77a4ef350ae0dd37d6bba1c002d03444fb1edb236...</td>\n",
       "      <td>LOST</td>\n",
       "      <td>Low budget</td>\n",
       "      <td>NaN</td>\n",
       "      <td>NaN</td>\n",
       "      <td>NaT</td>\n",
       "      <td>9b2d5b4678781e53038e91ea5324530a03f27dc1d0e5f6...</td>\n",
       "      <td>9b2d5b4678781e53038e91ea5324530a03f27dc1d0e5f6...</td>\n",
       "      <td>9b2d5b4678781e53038e91ea5324530a03f27dc1d0e5f6...</td>\n",
       "      <td>3d59f7548e1af2151b64135003ce63c0a484c26b9b8b16...</td>\n",
       "      <td>268ad70eb5bc4737a2ae28162cbca30118cc94520e49ef...</td>\n",
       "      <td>5372372f3bf5896820cb2819300c3e681820d82c6efc54...</td>\n",
       "      <td>8d23a6e37e0a6431a8f1b43a91026dcff51170a89a6512...</td>\n",
       "      <td>NaN</td>\n",
       "      <td>b94693673a5f7178d1b114e4004ad52377d3244dd24a3d...</td>\n",
       "    </tr>\n",
       "    <tr>\n",
       "      <th>2</th>\n",
       "      <td>2</td>\n",
       "      <td>c213697430c006013012dd2aca82dd9732aa0a1a6bca13...</td>\n",
       "      <td>LOST</td>\n",
       "      <td>Not responding</td>\n",
       "      <td>£121 - £180 Per Week</td>\n",
       "      <td>Full Year Course Stay 40 - 44 weeks</td>\n",
       "      <td>2022-08-31</td>\n",
       "      <td>7aae3e886e89fc1187a5c47d6cea1c22998ee610ade1f2...</td>\n",
       "      <td>9b8cc3c63cdf447e463c11544924bf027945cbd29675f7...</td>\n",
       "      <td>e09e10e67812e9d236ad900e5d46b4308fc62f5d69446a...</td>\n",
       "      <td>bbdefa2950f49882f295b1285d4fa9dec45fc4144bfb07...</td>\n",
       "      <td>09076eb7665d1fb9389c7c4517fee0b00e43092eb34821...</td>\n",
       "      <td>11ab03a1a8c367191355c152f39fe28cae5e426fce49ef...</td>\n",
       "      <td>8d23a6e37e0a6431a8f1b43a91026dcff51170a89a6512...</td>\n",
       "      <td>Ensuite</td>\n",
       "      <td>96ea4e2bf04496c044745938c0299c264c3f4ba079e572...</td>\n",
       "    </tr>\n",
       "    <tr>\n",
       "      <th>3</th>\n",
       "      <td>3</td>\n",
       "      <td>eac9815a500f908736d303e23aa227f0957177b0e6756b...</td>\n",
       "      <td>LOST</td>\n",
       "      <td>Low budget</td>\n",
       "      <td>0-0</td>\n",
       "      <td>0</td>\n",
       "      <td>NaT</td>\n",
       "      <td>ba2d0a29556ac20f86f45e4543c0825428cba33fd7a9ea...</td>\n",
       "      <td>a5f0d2d08eb0592087e3a3a2f9c1ba2c67cc30f2efd2bd...</td>\n",
       "      <td>e09e10e67812e9d236ad900e5d46b4308fc62f5d69446a...</td>\n",
       "      <td>bbdefa2950f49882f295b1285d4fa9dec45fc4144bfb07...</td>\n",
       "      <td>09076eb7665d1fb9389c7c4517fee0b00e43092eb34821...</td>\n",
       "      <td>19372fa44c57a01c37a5a8418779ca3d99b0b59731fb35...</td>\n",
       "      <td>8d23a6e37e0a6431a8f1b43a91026dcff51170a89a6512...</td>\n",
       "      <td>NaN</td>\n",
       "      <td>1d2b34d8add02a182a4129023766ca4585a8ddced0e5b3...</td>\n",
       "    </tr>\n",
       "    <tr>\n",
       "      <th>4</th>\n",
       "      <td>4</td>\n",
       "      <td>1deba9e96f404694373de9749ddd1ca8aa7bb823145a6f...</td>\n",
       "      <td>LOST</td>\n",
       "      <td>Junk lead</td>\n",
       "      <td>NaN</td>\n",
       "      <td>NaN</td>\n",
       "      <td>NaT</td>\n",
       "      <td>9b2d5b4678781e53038e91ea5324530a03f27dc1d0e5f6...</td>\n",
       "      <td>9b2d5b4678781e53038e91ea5324530a03f27dc1d0e5f6...</td>\n",
       "      <td>9b2d5b4678781e53038e91ea5324530a03f27dc1d0e5f6...</td>\n",
       "      <td>3d59f7548e1af2151b64135003ce63c0a484c26b9b8b16...</td>\n",
       "      <td>268ad70eb5bc4737a2ae28162cbca30118cc94520e49ef...</td>\n",
       "      <td>9b2d5b4678781e53038e91ea5324530a03f27dc1d0e5f6...</td>\n",
       "      <td>9b2d5b4678781e53038e91ea5324530a03f27dc1d0e5f6...</td>\n",
       "      <td>NaN</td>\n",
       "      <td>fc10fffd29cfbe93c55158fb47752a7501c211d253468c...</td>\n",
       "    </tr>\n",
       "  </tbody>\n",
       "</table>\n",
       "</div>"
      ],
      "text/plain": [
       "   Unnamed: 0                                           Agent_id status  \\\n",
       "0           0  1deba9e96f404694373de9749ddd1ca8aa7bb823145a6f...   LOST   \n",
       "1           1  299ae77a4ef350ae0dd37d6bba1c002d03444fb1edb236...   LOST   \n",
       "2           2  c213697430c006013012dd2aca82dd9732aa0a1a6bca13...   LOST   \n",
       "3           3  eac9815a500f908736d303e23aa227f0957177b0e6756b...   LOST   \n",
       "4           4  1deba9e96f404694373de9749ddd1ca8aa7bb823145a6f...   LOST   \n",
       "\n",
       "      lost_reason                budget                                lease  \\\n",
       "0  Not responding                   NaN                                  NaN   \n",
       "1      Low budget                   NaN                                  NaN   \n",
       "2  Not responding  £121 - £180 Per Week  Full Year Course Stay 40 - 44 weeks   \n",
       "3      Low budget                   0-0                                    0   \n",
       "4       Junk lead                   NaN                                  NaN   \n",
       "\n",
       "      movein                                             source  \\\n",
       "0        NaT  9b2d5b4678781e53038e91ea5324530a03f27dc1d0e5f6...   \n",
       "1        NaT  9b2d5b4678781e53038e91ea5324530a03f27dc1d0e5f6...   \n",
       "2 2022-08-31  7aae3e886e89fc1187a5c47d6cea1c22998ee610ade1f2...   \n",
       "3        NaT  ba2d0a29556ac20f86f45e4543c0825428cba33fd7a9ea...   \n",
       "4        NaT  9b2d5b4678781e53038e91ea5324530a03f27dc1d0e5f6...   \n",
       "\n",
       "                                         source_city  \\\n",
       "0  9b2d5b4678781e53038e91ea5324530a03f27dc1d0e5f6...   \n",
       "1  9b2d5b4678781e53038e91ea5324530a03f27dc1d0e5f6...   \n",
       "2  9b8cc3c63cdf447e463c11544924bf027945cbd29675f7...   \n",
       "3  a5f0d2d08eb0592087e3a3a2f9c1ba2c67cc30f2efd2bd...   \n",
       "4  9b2d5b4678781e53038e91ea5324530a03f27dc1d0e5f6...   \n",
       "\n",
       "                                      source_country  \\\n",
       "0  9b2d5b4678781e53038e91ea5324530a03f27dc1d0e5f6...   \n",
       "1  9b2d5b4678781e53038e91ea5324530a03f27dc1d0e5f6...   \n",
       "2  e09e10e67812e9d236ad900e5d46b4308fc62f5d69446a...   \n",
       "3  e09e10e67812e9d236ad900e5d46b4308fc62f5d69446a...   \n",
       "4  9b2d5b4678781e53038e91ea5324530a03f27dc1d0e5f6...   \n",
       "\n",
       "                                          utm_source  \\\n",
       "0  3d59f7548e1af2151b64135003ce63c0a484c26b9b8b16...   \n",
       "1  3d59f7548e1af2151b64135003ce63c0a484c26b9b8b16...   \n",
       "2  bbdefa2950f49882f295b1285d4fa9dec45fc4144bfb07...   \n",
       "3  bbdefa2950f49882f295b1285d4fa9dec45fc4144bfb07...   \n",
       "4  3d59f7548e1af2151b64135003ce63c0a484c26b9b8b16...   \n",
       "\n",
       "                                          utm_medium  \\\n",
       "0  268ad70eb5bc4737a2ae28162cbca30118cc94520e49ef...   \n",
       "1  268ad70eb5bc4737a2ae28162cbca30118cc94520e49ef...   \n",
       "2  09076eb7665d1fb9389c7c4517fee0b00e43092eb34821...   \n",
       "3  09076eb7665d1fb9389c7c4517fee0b00e43092eb34821...   \n",
       "4  268ad70eb5bc4737a2ae28162cbca30118cc94520e49ef...   \n",
       "\n",
       "                                            des_city  \\\n",
       "0  ecc0e7dc084f141b29479058967d0bc07dee25d9690a98...   \n",
       "1  5372372f3bf5896820cb2819300c3e681820d82c6efc54...   \n",
       "2  11ab03a1a8c367191355c152f39fe28cae5e426fce49ef...   \n",
       "3  19372fa44c57a01c37a5a8418779ca3d99b0b59731fb35...   \n",
       "4  9b2d5b4678781e53038e91ea5324530a03f27dc1d0e5f6...   \n",
       "\n",
       "                                         des_country room_type  \\\n",
       "0  8d23a6e37e0a6431a8f1b43a91026dcff51170a89a6512...       NaN   \n",
       "1  8d23a6e37e0a6431a8f1b43a91026dcff51170a89a6512...       NaN   \n",
       "2  8d23a6e37e0a6431a8f1b43a91026dcff51170a89a6512...   Ensuite   \n",
       "3  8d23a6e37e0a6431a8f1b43a91026dcff51170a89a6512...       NaN   \n",
       "4  9b2d5b4678781e53038e91ea5324530a03f27dc1d0e5f6...       NaN   \n",
       "\n",
       "                                             lead_id  \n",
       "0  cd5dc0d9393f3980d11d4ba6f88f8110c2b7a7f7796307...  \n",
       "1  b94693673a5f7178d1b114e4004ad52377d3244dd24a3d...  \n",
       "2  96ea4e2bf04496c044745938c0299c264c3f4ba079e572...  \n",
       "3  1d2b34d8add02a182a4129023766ca4585a8ddced0e5b3...  \n",
       "4  fc10fffd29cfbe93c55158fb47752a7501c211d253468c...  "
      ]
     },
     "execution_count": 3,
     "metadata": {},
     "output_type": "execute_result"
    }
   ],
   "source": [
    "df.head()"
   ]
  },
  {
   "cell_type": "code",
   "execution_count": 4,
   "id": "e217e93a",
   "metadata": {},
   "outputs": [
    {
     "data": {
      "text/plain": [
       "(46608, 16)"
      ]
     },
     "execution_count": 4,
     "metadata": {},
     "output_type": "execute_result"
    }
   ],
   "source": [
    "df.shape"
   ]
  },
  {
   "cell_type": "code",
   "execution_count": 5,
   "id": "37a4b895",
   "metadata": {},
   "outputs": [
    {
     "name": "stdout",
     "output_type": "stream",
     "text": [
      "<class 'pandas.core.frame.DataFrame'>\n",
      "RangeIndex: 46608 entries, 0 to 46607\n",
      "Data columns (total 16 columns):\n",
      " #   Column          Non-Null Count  Dtype         \n",
      "---  ------          --------------  -----         \n",
      " 0   Unnamed: 0      46608 non-null  int64         \n",
      " 1   Agent_id        46608 non-null  object        \n",
      " 2   status          46608 non-null  object        \n",
      " 3   lost_reason     43244 non-null  object        \n",
      " 4   budget          42908 non-null  object        \n",
      " 5   lease           44267 non-null  object        \n",
      " 6   movein          32970 non-null  datetime64[ns]\n",
      " 7   source          46608 non-null  object        \n",
      " 8   source_city     46608 non-null  object        \n",
      " 9   source_country  46608 non-null  object        \n",
      " 10  utm_source      46608 non-null  object        \n",
      " 11  utm_medium      46608 non-null  object        \n",
      " 12  des_city        46608 non-null  object        \n",
      " 13  des_country     46608 non-null  object        \n",
      " 14  room_type       23061 non-null  object        \n",
      " 15  lead_id         46608 non-null  object        \n",
      "dtypes: datetime64[ns](1), int64(1), object(14)\n",
      "memory usage: 5.7+ MB\n"
     ]
    }
   ],
   "source": [
    "df.info()"
   ]
  },
  {
   "cell_type": "code",
   "execution_count": 7,
   "id": "a8d3eea0",
   "metadata": {},
   "outputs": [],
   "source": [
    "#dropping columns \n",
    "df = df.drop([\"Unnamed: 0\",\"movein\"], axis = 1)"
   ]
  },
  {
   "cell_type": "code",
   "execution_count": 8,
   "id": "ae67ff46",
   "metadata": {},
   "outputs": [
    {
     "data": {
      "text/plain": [
       "Agent_id              0\n",
       "status                0\n",
       "lost_reason        3364\n",
       "budget             3700\n",
       "lease              2341\n",
       "source                0\n",
       "source_city           0\n",
       "source_country        0\n",
       "utm_source            0\n",
       "utm_medium            0\n",
       "des_city              0\n",
       "des_country           0\n",
       "room_type         23547\n",
       "lead_id               0\n",
       "dtype: int64"
      ]
     },
     "execution_count": 8,
     "metadata": {},
     "output_type": "execute_result"
    }
   ],
   "source": [
    "df.isnull().sum()"
   ]
  },
  {
   "cell_type": "code",
   "execution_count": null,
   "id": "a954c28f",
   "metadata": {},
   "outputs": [],
   "source": [
    "#as per given things \n",
    "#This '9b2d5b4678781e53038e91ea5324530a03f27dc1d0e5f6c9bc9d493a23be9de0' represents NaN and could be present in more than \n",
    "#one column so lets check that"
   ]
  },
  {
   "cell_type": "code",
   "execution_count": 10,
   "id": "02f61888",
   "metadata": {},
   "outputs": [],
   "source": [
    "df1 =df.replace(\"9b2d5b4678781e53038e91ea5324530a03f27dc1d0e5f6c9bc9d493a23be9de0\", np.NAN)"
   ]
  },
  {
   "cell_type": "code",
   "execution_count": 11,
   "id": "da074caf",
   "metadata": {},
   "outputs": [
    {
     "data": {
      "text/html": [
       "<div>\n",
       "<style scoped>\n",
       "    .dataframe tbody tr th:only-of-type {\n",
       "        vertical-align: middle;\n",
       "    }\n",
       "\n",
       "    .dataframe tbody tr th {\n",
       "        vertical-align: top;\n",
       "    }\n",
       "\n",
       "    .dataframe thead th {\n",
       "        text-align: right;\n",
       "    }\n",
       "</style>\n",
       "<table border=\"1\" class=\"dataframe\">\n",
       "  <thead>\n",
       "    <tr style=\"text-align: right;\">\n",
       "      <th></th>\n",
       "      <th>Agent_id</th>\n",
       "      <th>status</th>\n",
       "      <th>lost_reason</th>\n",
       "      <th>budget</th>\n",
       "      <th>lease</th>\n",
       "      <th>source</th>\n",
       "      <th>source_city</th>\n",
       "      <th>source_country</th>\n",
       "      <th>utm_source</th>\n",
       "      <th>utm_medium</th>\n",
       "      <th>des_city</th>\n",
       "      <th>des_country</th>\n",
       "      <th>room_type</th>\n",
       "      <th>lead_id</th>\n",
       "    </tr>\n",
       "  </thead>\n",
       "  <tbody>\n",
       "    <tr>\n",
       "      <th>0</th>\n",
       "      <td>1deba9e96f404694373de9749ddd1ca8aa7bb823145a6f...</td>\n",
       "      <td>LOST</td>\n",
       "      <td>Not responding</td>\n",
       "      <td>NaN</td>\n",
       "      <td>NaN</td>\n",
       "      <td>NaN</td>\n",
       "      <td>NaN</td>\n",
       "      <td>NaN</td>\n",
       "      <td>3d59f7548e1af2151b64135003ce63c0a484c26b9b8b16...</td>\n",
       "      <td>268ad70eb5bc4737a2ae28162cbca30118cc94520e49ef...</td>\n",
       "      <td>ecc0e7dc084f141b29479058967d0bc07dee25d9690a98...</td>\n",
       "      <td>8d23a6e37e0a6431a8f1b43a91026dcff51170a89a6512...</td>\n",
       "      <td>NaN</td>\n",
       "      <td>cd5dc0d9393f3980d11d4ba6f88f8110c2b7a7f7796307...</td>\n",
       "    </tr>\n",
       "    <tr>\n",
       "      <th>1</th>\n",
       "      <td>299ae77a4ef350ae0dd37d6bba1c002d03444fb1edb236...</td>\n",
       "      <td>LOST</td>\n",
       "      <td>Low budget</td>\n",
       "      <td>NaN</td>\n",
       "      <td>NaN</td>\n",
       "      <td>NaN</td>\n",
       "      <td>NaN</td>\n",
       "      <td>NaN</td>\n",
       "      <td>3d59f7548e1af2151b64135003ce63c0a484c26b9b8b16...</td>\n",
       "      <td>268ad70eb5bc4737a2ae28162cbca30118cc94520e49ef...</td>\n",
       "      <td>5372372f3bf5896820cb2819300c3e681820d82c6efc54...</td>\n",
       "      <td>8d23a6e37e0a6431a8f1b43a91026dcff51170a89a6512...</td>\n",
       "      <td>NaN</td>\n",
       "      <td>b94693673a5f7178d1b114e4004ad52377d3244dd24a3d...</td>\n",
       "    </tr>\n",
       "    <tr>\n",
       "      <th>2</th>\n",
       "      <td>c213697430c006013012dd2aca82dd9732aa0a1a6bca13...</td>\n",
       "      <td>LOST</td>\n",
       "      <td>Not responding</td>\n",
       "      <td>£121 - £180 Per Week</td>\n",
       "      <td>Full Year Course Stay 40 - 44 weeks</td>\n",
       "      <td>7aae3e886e89fc1187a5c47d6cea1c22998ee610ade1f2...</td>\n",
       "      <td>9b8cc3c63cdf447e463c11544924bf027945cbd29675f7...</td>\n",
       "      <td>e09e10e67812e9d236ad900e5d46b4308fc62f5d69446a...</td>\n",
       "      <td>bbdefa2950f49882f295b1285d4fa9dec45fc4144bfb07...</td>\n",
       "      <td>09076eb7665d1fb9389c7c4517fee0b00e43092eb34821...</td>\n",
       "      <td>11ab03a1a8c367191355c152f39fe28cae5e426fce49ef...</td>\n",
       "      <td>8d23a6e37e0a6431a8f1b43a91026dcff51170a89a6512...</td>\n",
       "      <td>Ensuite</td>\n",
       "      <td>96ea4e2bf04496c044745938c0299c264c3f4ba079e572...</td>\n",
       "    </tr>\n",
       "    <tr>\n",
       "      <th>3</th>\n",
       "      <td>eac9815a500f908736d303e23aa227f0957177b0e6756b...</td>\n",
       "      <td>LOST</td>\n",
       "      <td>Low budget</td>\n",
       "      <td>0-0</td>\n",
       "      <td>0</td>\n",
       "      <td>ba2d0a29556ac20f86f45e4543c0825428cba33fd7a9ea...</td>\n",
       "      <td>a5f0d2d08eb0592087e3a3a2f9c1ba2c67cc30f2efd2bd...</td>\n",
       "      <td>e09e10e67812e9d236ad900e5d46b4308fc62f5d69446a...</td>\n",
       "      <td>bbdefa2950f49882f295b1285d4fa9dec45fc4144bfb07...</td>\n",
       "      <td>09076eb7665d1fb9389c7c4517fee0b00e43092eb34821...</td>\n",
       "      <td>19372fa44c57a01c37a5a8418779ca3d99b0b59731fb35...</td>\n",
       "      <td>8d23a6e37e0a6431a8f1b43a91026dcff51170a89a6512...</td>\n",
       "      <td>NaN</td>\n",
       "      <td>1d2b34d8add02a182a4129023766ca4585a8ddced0e5b3...</td>\n",
       "    </tr>\n",
       "    <tr>\n",
       "      <th>4</th>\n",
       "      <td>1deba9e96f404694373de9749ddd1ca8aa7bb823145a6f...</td>\n",
       "      <td>LOST</td>\n",
       "      <td>Junk lead</td>\n",
       "      <td>NaN</td>\n",
       "      <td>NaN</td>\n",
       "      <td>NaN</td>\n",
       "      <td>NaN</td>\n",
       "      <td>NaN</td>\n",
       "      <td>3d59f7548e1af2151b64135003ce63c0a484c26b9b8b16...</td>\n",
       "      <td>268ad70eb5bc4737a2ae28162cbca30118cc94520e49ef...</td>\n",
       "      <td>NaN</td>\n",
       "      <td>NaN</td>\n",
       "      <td>NaN</td>\n",
       "      <td>fc10fffd29cfbe93c55158fb47752a7501c211d253468c...</td>\n",
       "    </tr>\n",
       "  </tbody>\n",
       "</table>\n",
       "</div>"
      ],
      "text/plain": [
       "                                            Agent_id status     lost_reason  \\\n",
       "0  1deba9e96f404694373de9749ddd1ca8aa7bb823145a6f...   LOST  Not responding   \n",
       "1  299ae77a4ef350ae0dd37d6bba1c002d03444fb1edb236...   LOST      Low budget   \n",
       "2  c213697430c006013012dd2aca82dd9732aa0a1a6bca13...   LOST  Not responding   \n",
       "3  eac9815a500f908736d303e23aa227f0957177b0e6756b...   LOST      Low budget   \n",
       "4  1deba9e96f404694373de9749ddd1ca8aa7bb823145a6f...   LOST       Junk lead   \n",
       "\n",
       "                 budget                                lease  \\\n",
       "0                   NaN                                  NaN   \n",
       "1                   NaN                                  NaN   \n",
       "2  £121 - £180 Per Week  Full Year Course Stay 40 - 44 weeks   \n",
       "3                   0-0                                    0   \n",
       "4                   NaN                                  NaN   \n",
       "\n",
       "                                              source  \\\n",
       "0                                                NaN   \n",
       "1                                                NaN   \n",
       "2  7aae3e886e89fc1187a5c47d6cea1c22998ee610ade1f2...   \n",
       "3  ba2d0a29556ac20f86f45e4543c0825428cba33fd7a9ea...   \n",
       "4                                                NaN   \n",
       "\n",
       "                                         source_city  \\\n",
       "0                                                NaN   \n",
       "1                                                NaN   \n",
       "2  9b8cc3c63cdf447e463c11544924bf027945cbd29675f7...   \n",
       "3  a5f0d2d08eb0592087e3a3a2f9c1ba2c67cc30f2efd2bd...   \n",
       "4                                                NaN   \n",
       "\n",
       "                                      source_country  \\\n",
       "0                                                NaN   \n",
       "1                                                NaN   \n",
       "2  e09e10e67812e9d236ad900e5d46b4308fc62f5d69446a...   \n",
       "3  e09e10e67812e9d236ad900e5d46b4308fc62f5d69446a...   \n",
       "4                                                NaN   \n",
       "\n",
       "                                          utm_source  \\\n",
       "0  3d59f7548e1af2151b64135003ce63c0a484c26b9b8b16...   \n",
       "1  3d59f7548e1af2151b64135003ce63c0a484c26b9b8b16...   \n",
       "2  bbdefa2950f49882f295b1285d4fa9dec45fc4144bfb07...   \n",
       "3  bbdefa2950f49882f295b1285d4fa9dec45fc4144bfb07...   \n",
       "4  3d59f7548e1af2151b64135003ce63c0a484c26b9b8b16...   \n",
       "\n",
       "                                          utm_medium  \\\n",
       "0  268ad70eb5bc4737a2ae28162cbca30118cc94520e49ef...   \n",
       "1  268ad70eb5bc4737a2ae28162cbca30118cc94520e49ef...   \n",
       "2  09076eb7665d1fb9389c7c4517fee0b00e43092eb34821...   \n",
       "3  09076eb7665d1fb9389c7c4517fee0b00e43092eb34821...   \n",
       "4  268ad70eb5bc4737a2ae28162cbca30118cc94520e49ef...   \n",
       "\n",
       "                                            des_city  \\\n",
       "0  ecc0e7dc084f141b29479058967d0bc07dee25d9690a98...   \n",
       "1  5372372f3bf5896820cb2819300c3e681820d82c6efc54...   \n",
       "2  11ab03a1a8c367191355c152f39fe28cae5e426fce49ef...   \n",
       "3  19372fa44c57a01c37a5a8418779ca3d99b0b59731fb35...   \n",
       "4                                                NaN   \n",
       "\n",
       "                                         des_country room_type  \\\n",
       "0  8d23a6e37e0a6431a8f1b43a91026dcff51170a89a6512...       NaN   \n",
       "1  8d23a6e37e0a6431a8f1b43a91026dcff51170a89a6512...       NaN   \n",
       "2  8d23a6e37e0a6431a8f1b43a91026dcff51170a89a6512...   Ensuite   \n",
       "3  8d23a6e37e0a6431a8f1b43a91026dcff51170a89a6512...       NaN   \n",
       "4                                                NaN       NaN   \n",
       "\n",
       "                                             lead_id  \n",
       "0  cd5dc0d9393f3980d11d4ba6f88f8110c2b7a7f7796307...  \n",
       "1  b94693673a5f7178d1b114e4004ad52377d3244dd24a3d...  \n",
       "2  96ea4e2bf04496c044745938c0299c264c3f4ba079e572...  \n",
       "3  1d2b34d8add02a182a4129023766ca4585a8ddced0e5b3...  \n",
       "4  fc10fffd29cfbe93c55158fb47752a7501c211d253468c...  "
      ]
     },
     "execution_count": 11,
     "metadata": {},
     "output_type": "execute_result"
    }
   ],
   "source": [
    "df1.head()"
   ]
  },
  {
   "cell_type": "code",
   "execution_count": 12,
   "id": "f496dca3",
   "metadata": {},
   "outputs": [
    {
     "data": {
      "text/html": [
       "<div>\n",
       "<style scoped>\n",
       "    .dataframe tbody tr th:only-of-type {\n",
       "        vertical-align: middle;\n",
       "    }\n",
       "\n",
       "    .dataframe tbody tr th {\n",
       "        vertical-align: top;\n",
       "    }\n",
       "\n",
       "    .dataframe thead th {\n",
       "        text-align: right;\n",
       "    }\n",
       "</style>\n",
       "<table border=\"1\" class=\"dataframe\">\n",
       "  <thead>\n",
       "    <tr style=\"text-align: right;\">\n",
       "      <th></th>\n",
       "      <th>Agent_id</th>\n",
       "      <th>status</th>\n",
       "      <th>lost_reason</th>\n",
       "      <th>budget</th>\n",
       "      <th>lease</th>\n",
       "      <th>source</th>\n",
       "      <th>source_city</th>\n",
       "      <th>source_country</th>\n",
       "      <th>utm_source</th>\n",
       "      <th>utm_medium</th>\n",
       "      <th>des_city</th>\n",
       "      <th>des_country</th>\n",
       "      <th>room_type</th>\n",
       "      <th>lead_id</th>\n",
       "    </tr>\n",
       "  </thead>\n",
       "  <tbody>\n",
       "    <tr>\n",
       "      <th>0</th>\n",
       "      <td>1deba9e96f404694373de9749ddd1ca8aa7bb823145a6f...</td>\n",
       "      <td>LOST</td>\n",
       "      <td>Not responding</td>\n",
       "      <td>NaN</td>\n",
       "      <td>NaN</td>\n",
       "      <td>NaN</td>\n",
       "      <td>NaN</td>\n",
       "      <td>NaN</td>\n",
       "      <td>3d59f7548e1af2151b64135003ce63c0a484c26b9b8b16...</td>\n",
       "      <td>268ad70eb5bc4737a2ae28162cbca30118cc94520e49ef...</td>\n",
       "      <td>ecc0e7dc084f141b29479058967d0bc07dee25d9690a98...</td>\n",
       "      <td>8d23a6e37e0a6431a8f1b43a91026dcff51170a89a6512...</td>\n",
       "      <td>NaN</td>\n",
       "      <td>cd5dc0d9393f3980d11d4ba6f88f8110c2b7a7f7796307...</td>\n",
       "    </tr>\n",
       "    <tr>\n",
       "      <th>1</th>\n",
       "      <td>299ae77a4ef350ae0dd37d6bba1c002d03444fb1edb236...</td>\n",
       "      <td>LOST</td>\n",
       "      <td>Low budget</td>\n",
       "      <td>NaN</td>\n",
       "      <td>NaN</td>\n",
       "      <td>NaN</td>\n",
       "      <td>NaN</td>\n",
       "      <td>NaN</td>\n",
       "      <td>3d59f7548e1af2151b64135003ce63c0a484c26b9b8b16...</td>\n",
       "      <td>268ad70eb5bc4737a2ae28162cbca30118cc94520e49ef...</td>\n",
       "      <td>5372372f3bf5896820cb2819300c3e681820d82c6efc54...</td>\n",
       "      <td>8d23a6e37e0a6431a8f1b43a91026dcff51170a89a6512...</td>\n",
       "      <td>NaN</td>\n",
       "      <td>b94693673a5f7178d1b114e4004ad52377d3244dd24a3d...</td>\n",
       "    </tr>\n",
       "    <tr>\n",
       "      <th>2</th>\n",
       "      <td>c213697430c006013012dd2aca82dd9732aa0a1a6bca13...</td>\n",
       "      <td>LOST</td>\n",
       "      <td>Not responding</td>\n",
       "      <td>£121 - £180 Per Week</td>\n",
       "      <td>Full Year Course Stay 40 - 44 weeks</td>\n",
       "      <td>7aae3e886e89fc1187a5c47d6cea1c22998ee610ade1f2...</td>\n",
       "      <td>9b8cc3c63cdf447e463c11544924bf027945cbd29675f7...</td>\n",
       "      <td>e09e10e67812e9d236ad900e5d46b4308fc62f5d69446a...</td>\n",
       "      <td>bbdefa2950f49882f295b1285d4fa9dec45fc4144bfb07...</td>\n",
       "      <td>09076eb7665d1fb9389c7c4517fee0b00e43092eb34821...</td>\n",
       "      <td>11ab03a1a8c367191355c152f39fe28cae5e426fce49ef...</td>\n",
       "      <td>8d23a6e37e0a6431a8f1b43a91026dcff51170a89a6512...</td>\n",
       "      <td>Ensuite</td>\n",
       "      <td>96ea4e2bf04496c044745938c0299c264c3f4ba079e572...</td>\n",
       "    </tr>\n",
       "    <tr>\n",
       "      <th>3</th>\n",
       "      <td>eac9815a500f908736d303e23aa227f0957177b0e6756b...</td>\n",
       "      <td>LOST</td>\n",
       "      <td>Low budget</td>\n",
       "      <td>0-0</td>\n",
       "      <td>0</td>\n",
       "      <td>ba2d0a29556ac20f86f45e4543c0825428cba33fd7a9ea...</td>\n",
       "      <td>a5f0d2d08eb0592087e3a3a2f9c1ba2c67cc30f2efd2bd...</td>\n",
       "      <td>e09e10e67812e9d236ad900e5d46b4308fc62f5d69446a...</td>\n",
       "      <td>bbdefa2950f49882f295b1285d4fa9dec45fc4144bfb07...</td>\n",
       "      <td>09076eb7665d1fb9389c7c4517fee0b00e43092eb34821...</td>\n",
       "      <td>19372fa44c57a01c37a5a8418779ca3d99b0b59731fb35...</td>\n",
       "      <td>8d23a6e37e0a6431a8f1b43a91026dcff51170a89a6512...</td>\n",
       "      <td>NaN</td>\n",
       "      <td>1d2b34d8add02a182a4129023766ca4585a8ddced0e5b3...</td>\n",
       "    </tr>\n",
       "    <tr>\n",
       "      <th>4</th>\n",
       "      <td>1deba9e96f404694373de9749ddd1ca8aa7bb823145a6f...</td>\n",
       "      <td>LOST</td>\n",
       "      <td>Junk lead</td>\n",
       "      <td>NaN</td>\n",
       "      <td>NaN</td>\n",
       "      <td>NaN</td>\n",
       "      <td>NaN</td>\n",
       "      <td>NaN</td>\n",
       "      <td>3d59f7548e1af2151b64135003ce63c0a484c26b9b8b16...</td>\n",
       "      <td>268ad70eb5bc4737a2ae28162cbca30118cc94520e49ef...</td>\n",
       "      <td>NaN</td>\n",
       "      <td>NaN</td>\n",
       "      <td>NaN</td>\n",
       "      <td>fc10fffd29cfbe93c55158fb47752a7501c211d253468c...</td>\n",
       "    </tr>\n",
       "    <tr>\n",
       "      <th>...</th>\n",
       "      <td>...</td>\n",
       "      <td>...</td>\n",
       "      <td>...</td>\n",
       "      <td>...</td>\n",
       "      <td>...</td>\n",
       "      <td>...</td>\n",
       "      <td>...</td>\n",
       "      <td>...</td>\n",
       "      <td>...</td>\n",
       "      <td>...</td>\n",
       "      <td>...</td>\n",
       "      <td>...</td>\n",
       "      <td>...</td>\n",
       "      <td>...</td>\n",
       "    </tr>\n",
       "    <tr>\n",
       "      <th>46603</th>\n",
       "      <td>2306878a9ad9b57686cd623dd285aaa9b25afdf627f651...</td>\n",
       "      <td>LOST</td>\n",
       "      <td>Low availability</td>\n",
       "      <td>£60 - £120 Per week</td>\n",
       "      <td>Complete Education Year Stay 50 - 52 weeks</td>\n",
       "      <td>NaN</td>\n",
       "      <td>7d1550b844ff586a6023216c06263105eed0a849a2a1f6...</td>\n",
       "      <td>8da82000ef9c4468ba47362a924b895e40662fed846942...</td>\n",
       "      <td>bbdefa2950f49882f295b1285d4fa9dec45fc4144bfb07...</td>\n",
       "      <td>09076eb7665d1fb9389c7c4517fee0b00e43092eb34821...</td>\n",
       "      <td>13d4b96b6ee361b737e22404aeecca45f322ba7d4c2c42...</td>\n",
       "      <td>8d23a6e37e0a6431a8f1b43a91026dcff51170a89a6512...</td>\n",
       "      <td>Studio</td>\n",
       "      <td>1aaa4a4a9092e4c0eabf958ed9aea59c50d8ea3f08f691...</td>\n",
       "    </tr>\n",
       "    <tr>\n",
       "      <th>46604</th>\n",
       "      <td>327ec29056cc47c24bf922f7dc0f78261dad5c726d7353...</td>\n",
       "      <td>LOST</td>\n",
       "      <td>Semester stay</td>\n",
       "      <td>£60 - £120 Per week</td>\n",
       "      <td>Summer/Short Stay 8 - 12 weeks</td>\n",
       "      <td>NaN</td>\n",
       "      <td>9f2ba6981e36ea0fca6c16f42e6413d788d2a7499b8b7f...</td>\n",
       "      <td>8da82000ef9c4468ba47362a924b895e40662fed846942...</td>\n",
       "      <td>bbdefa2950f49882f295b1285d4fa9dec45fc4144bfb07...</td>\n",
       "      <td>09076eb7665d1fb9389c7c4517fee0b00e43092eb34821...</td>\n",
       "      <td>998c18dc0e513ab0035c7b858e3780bbbead88695a15de...</td>\n",
       "      <td>8d23a6e37e0a6431a8f1b43a91026dcff51170a89a6512...</td>\n",
       "      <td>Studio</td>\n",
       "      <td>1f90dbad4873cb9673ff3c7ec69fbac4289181453c6cea...</td>\n",
       "    </tr>\n",
       "    <tr>\n",
       "      <th>46605</th>\n",
       "      <td>1134c0a7d44fdae1afd7f1f64e2789496784095ca0a050...</td>\n",
       "      <td>LOST</td>\n",
       "      <td>Low availability</td>\n",
       "      <td>£241 - £300 Per week</td>\n",
       "      <td>Full Year Course Stay 40 - 44 weeks</td>\n",
       "      <td>7aae3e886e89fc1187a5c47d6cea1c22998ee610ade1f2...</td>\n",
       "      <td>7d1550b844ff586a6023216c06263105eed0a849a2a1f6...</td>\n",
       "      <td>8da82000ef9c4468ba47362a924b895e40662fed846942...</td>\n",
       "      <td>bbdefa2950f49882f295b1285d4fa9dec45fc4144bfb07...</td>\n",
       "      <td>09076eb7665d1fb9389c7c4517fee0b00e43092eb34821...</td>\n",
       "      <td>ecc0e7dc084f141b29479058967d0bc07dee25d9690a98...</td>\n",
       "      <td>8d23a6e37e0a6431a8f1b43a91026dcff51170a89a6512...</td>\n",
       "      <td>Studio</td>\n",
       "      <td>d9e0f455b68a6573544ffac32292541a510fe2daffe2bb...</td>\n",
       "    </tr>\n",
       "    <tr>\n",
       "      <th>46606</th>\n",
       "      <td>8b8b029f1142f5cbc825aa6cbee01406c915c6b055db79...</td>\n",
       "      <td>LOST</td>\n",
       "      <td>Low availability</td>\n",
       "      <td>1108</td>\n",
       "      <td>294</td>\n",
       "      <td>d684761c17c11590f6e2525b48141cb2c0c6f2be5df4e2...</td>\n",
       "      <td>e9c722cbefc2f055ae60b4e2cbe73a2d99537eab0c37f3...</td>\n",
       "      <td>b936ee09e20b3b2234907cde349cda1c1a5327c4a486bf...</td>\n",
       "      <td>7f3fa48ca885678134842fa7456f3ece53a97f843b6101...</td>\n",
       "      <td>abb8e2badd5b6265c3237170cc599257a4f566706715d2...</td>\n",
       "      <td>ecc0e7dc084f141b29479058967d0bc07dee25d9690a98...</td>\n",
       "      <td>8d23a6e37e0a6431a8f1b43a91026dcff51170a89a6512...</td>\n",
       "      <td>NaN</td>\n",
       "      <td>1f90dbad4873cb9673ff3c7ec69fbac4289181453c6cea...</td>\n",
       "    </tr>\n",
       "    <tr>\n",
       "      <th>46607</th>\n",
       "      <td>1ea65ea38f2f574b3875ba895e4ff76b284b7725041612...</td>\n",
       "      <td>LOST</td>\n",
       "      <td>Low availability</td>\n",
       "      <td>£181 - £240 Per Week</td>\n",
       "      <td>Full Year Course Stay 40 - 44 weeks</td>\n",
       "      <td>7aae3e886e89fc1187a5c47d6cea1c22998ee610ade1f2...</td>\n",
       "      <td>1496126b7015defbc3b1d129a46096a5c135075aff2add...</td>\n",
       "      <td>e09e10e67812e9d236ad900e5d46b4308fc62f5d69446a...</td>\n",
       "      <td>bbdefa2950f49882f295b1285d4fa9dec45fc4144bfb07...</td>\n",
       "      <td>09076eb7665d1fb9389c7c4517fee0b00e43092eb34821...</td>\n",
       "      <td>618738f7143c9b43a98a6b42d743a6595069a9b4dcf42d...</td>\n",
       "      <td>8d23a6e37e0a6431a8f1b43a91026dcff51170a89a6512...</td>\n",
       "      <td>Studio</td>\n",
       "      <td>7520a8abba2b44d7f37c0ddbe5f7f3d87540b2b7a670e9...</td>\n",
       "    </tr>\n",
       "  </tbody>\n",
       "</table>\n",
       "<p>46598 rows × 14 columns</p>\n",
       "</div>"
      ],
      "text/plain": [
       "                                                Agent_id status  \\\n",
       "0      1deba9e96f404694373de9749ddd1ca8aa7bb823145a6f...   LOST   \n",
       "1      299ae77a4ef350ae0dd37d6bba1c002d03444fb1edb236...   LOST   \n",
       "2      c213697430c006013012dd2aca82dd9732aa0a1a6bca13...   LOST   \n",
       "3      eac9815a500f908736d303e23aa227f0957177b0e6756b...   LOST   \n",
       "4      1deba9e96f404694373de9749ddd1ca8aa7bb823145a6f...   LOST   \n",
       "...                                                  ...    ...   \n",
       "46603  2306878a9ad9b57686cd623dd285aaa9b25afdf627f651...   LOST   \n",
       "46604  327ec29056cc47c24bf922f7dc0f78261dad5c726d7353...   LOST   \n",
       "46605  1134c0a7d44fdae1afd7f1f64e2789496784095ca0a050...   LOST   \n",
       "46606  8b8b029f1142f5cbc825aa6cbee01406c915c6b055db79...   LOST   \n",
       "46607  1ea65ea38f2f574b3875ba895e4ff76b284b7725041612...   LOST   \n",
       "\n",
       "            lost_reason                budget  \\\n",
       "0        Not responding                   NaN   \n",
       "1            Low budget                   NaN   \n",
       "2        Not responding  £121 - £180 Per Week   \n",
       "3            Low budget                   0-0   \n",
       "4             Junk lead                   NaN   \n",
       "...                 ...                   ...   \n",
       "46603  Low availability   £60 - £120 Per week   \n",
       "46604     Semester stay   £60 - £120 Per week   \n",
       "46605  Low availability  £241 - £300 Per week   \n",
       "46606  Low availability                  1108   \n",
       "46607  Low availability  £181 - £240 Per Week   \n",
       "\n",
       "                                            lease  \\\n",
       "0                                             NaN   \n",
       "1                                             NaN   \n",
       "2             Full Year Course Stay 40 - 44 weeks   \n",
       "3                                               0   \n",
       "4                                             NaN   \n",
       "...                                           ...   \n",
       "46603  Complete Education Year Stay 50 - 52 weeks   \n",
       "46604              Summer/Short Stay 8 - 12 weeks   \n",
       "46605         Full Year Course Stay 40 - 44 weeks   \n",
       "46606                                         294   \n",
       "46607         Full Year Course Stay 40 - 44 weeks   \n",
       "\n",
       "                                                  source  \\\n",
       "0                                                    NaN   \n",
       "1                                                    NaN   \n",
       "2      7aae3e886e89fc1187a5c47d6cea1c22998ee610ade1f2...   \n",
       "3      ba2d0a29556ac20f86f45e4543c0825428cba33fd7a9ea...   \n",
       "4                                                    NaN   \n",
       "...                                                  ...   \n",
       "46603                                                NaN   \n",
       "46604                                                NaN   \n",
       "46605  7aae3e886e89fc1187a5c47d6cea1c22998ee610ade1f2...   \n",
       "46606  d684761c17c11590f6e2525b48141cb2c0c6f2be5df4e2...   \n",
       "46607  7aae3e886e89fc1187a5c47d6cea1c22998ee610ade1f2...   \n",
       "\n",
       "                                             source_city  \\\n",
       "0                                                    NaN   \n",
       "1                                                    NaN   \n",
       "2      9b8cc3c63cdf447e463c11544924bf027945cbd29675f7...   \n",
       "3      a5f0d2d08eb0592087e3a3a2f9c1ba2c67cc30f2efd2bd...   \n",
       "4                                                    NaN   \n",
       "...                                                  ...   \n",
       "46603  7d1550b844ff586a6023216c06263105eed0a849a2a1f6...   \n",
       "46604  9f2ba6981e36ea0fca6c16f42e6413d788d2a7499b8b7f...   \n",
       "46605  7d1550b844ff586a6023216c06263105eed0a849a2a1f6...   \n",
       "46606  e9c722cbefc2f055ae60b4e2cbe73a2d99537eab0c37f3...   \n",
       "46607  1496126b7015defbc3b1d129a46096a5c135075aff2add...   \n",
       "\n",
       "                                          source_country  \\\n",
       "0                                                    NaN   \n",
       "1                                                    NaN   \n",
       "2      e09e10e67812e9d236ad900e5d46b4308fc62f5d69446a...   \n",
       "3      e09e10e67812e9d236ad900e5d46b4308fc62f5d69446a...   \n",
       "4                                                    NaN   \n",
       "...                                                  ...   \n",
       "46603  8da82000ef9c4468ba47362a924b895e40662fed846942...   \n",
       "46604  8da82000ef9c4468ba47362a924b895e40662fed846942...   \n",
       "46605  8da82000ef9c4468ba47362a924b895e40662fed846942...   \n",
       "46606  b936ee09e20b3b2234907cde349cda1c1a5327c4a486bf...   \n",
       "46607  e09e10e67812e9d236ad900e5d46b4308fc62f5d69446a...   \n",
       "\n",
       "                                              utm_source  \\\n",
       "0      3d59f7548e1af2151b64135003ce63c0a484c26b9b8b16...   \n",
       "1      3d59f7548e1af2151b64135003ce63c0a484c26b9b8b16...   \n",
       "2      bbdefa2950f49882f295b1285d4fa9dec45fc4144bfb07...   \n",
       "3      bbdefa2950f49882f295b1285d4fa9dec45fc4144bfb07...   \n",
       "4      3d59f7548e1af2151b64135003ce63c0a484c26b9b8b16...   \n",
       "...                                                  ...   \n",
       "46603  bbdefa2950f49882f295b1285d4fa9dec45fc4144bfb07...   \n",
       "46604  bbdefa2950f49882f295b1285d4fa9dec45fc4144bfb07...   \n",
       "46605  bbdefa2950f49882f295b1285d4fa9dec45fc4144bfb07...   \n",
       "46606  7f3fa48ca885678134842fa7456f3ece53a97f843b6101...   \n",
       "46607  bbdefa2950f49882f295b1285d4fa9dec45fc4144bfb07...   \n",
       "\n",
       "                                              utm_medium  \\\n",
       "0      268ad70eb5bc4737a2ae28162cbca30118cc94520e49ef...   \n",
       "1      268ad70eb5bc4737a2ae28162cbca30118cc94520e49ef...   \n",
       "2      09076eb7665d1fb9389c7c4517fee0b00e43092eb34821...   \n",
       "3      09076eb7665d1fb9389c7c4517fee0b00e43092eb34821...   \n",
       "4      268ad70eb5bc4737a2ae28162cbca30118cc94520e49ef...   \n",
       "...                                                  ...   \n",
       "46603  09076eb7665d1fb9389c7c4517fee0b00e43092eb34821...   \n",
       "46604  09076eb7665d1fb9389c7c4517fee0b00e43092eb34821...   \n",
       "46605  09076eb7665d1fb9389c7c4517fee0b00e43092eb34821...   \n",
       "46606  abb8e2badd5b6265c3237170cc599257a4f566706715d2...   \n",
       "46607  09076eb7665d1fb9389c7c4517fee0b00e43092eb34821...   \n",
       "\n",
       "                                                des_city  \\\n",
       "0      ecc0e7dc084f141b29479058967d0bc07dee25d9690a98...   \n",
       "1      5372372f3bf5896820cb2819300c3e681820d82c6efc54...   \n",
       "2      11ab03a1a8c367191355c152f39fe28cae5e426fce49ef...   \n",
       "3      19372fa44c57a01c37a5a8418779ca3d99b0b59731fb35...   \n",
       "4                                                    NaN   \n",
       "...                                                  ...   \n",
       "46603  13d4b96b6ee361b737e22404aeecca45f322ba7d4c2c42...   \n",
       "46604  998c18dc0e513ab0035c7b858e3780bbbead88695a15de...   \n",
       "46605  ecc0e7dc084f141b29479058967d0bc07dee25d9690a98...   \n",
       "46606  ecc0e7dc084f141b29479058967d0bc07dee25d9690a98...   \n",
       "46607  618738f7143c9b43a98a6b42d743a6595069a9b4dcf42d...   \n",
       "\n",
       "                                             des_country room_type  \\\n",
       "0      8d23a6e37e0a6431a8f1b43a91026dcff51170a89a6512...       NaN   \n",
       "1      8d23a6e37e0a6431a8f1b43a91026dcff51170a89a6512...       NaN   \n",
       "2      8d23a6e37e0a6431a8f1b43a91026dcff51170a89a6512...   Ensuite   \n",
       "3      8d23a6e37e0a6431a8f1b43a91026dcff51170a89a6512...       NaN   \n",
       "4                                                    NaN       NaN   \n",
       "...                                                  ...       ...   \n",
       "46603  8d23a6e37e0a6431a8f1b43a91026dcff51170a89a6512...    Studio   \n",
       "46604  8d23a6e37e0a6431a8f1b43a91026dcff51170a89a6512...    Studio   \n",
       "46605  8d23a6e37e0a6431a8f1b43a91026dcff51170a89a6512...    Studio   \n",
       "46606  8d23a6e37e0a6431a8f1b43a91026dcff51170a89a6512...       NaN   \n",
       "46607  8d23a6e37e0a6431a8f1b43a91026dcff51170a89a6512...    Studio   \n",
       "\n",
       "                                                 lead_id  \n",
       "0      cd5dc0d9393f3980d11d4ba6f88f8110c2b7a7f7796307...  \n",
       "1      b94693673a5f7178d1b114e4004ad52377d3244dd24a3d...  \n",
       "2      96ea4e2bf04496c044745938c0299c264c3f4ba079e572...  \n",
       "3      1d2b34d8add02a182a4129023766ca4585a8ddced0e5b3...  \n",
       "4      fc10fffd29cfbe93c55158fb47752a7501c211d253468c...  \n",
       "...                                                  ...  \n",
       "46603  1aaa4a4a9092e4c0eabf958ed9aea59c50d8ea3f08f691...  \n",
       "46604  1f90dbad4873cb9673ff3c7ec69fbac4289181453c6cea...  \n",
       "46605  d9e0f455b68a6573544ffac32292541a510fe2daffe2bb...  \n",
       "46606  1f90dbad4873cb9673ff3c7ec69fbac4289181453c6cea...  \n",
       "46607  7520a8abba2b44d7f37c0ddbe5f7f3d87540b2b7a670e9...  \n",
       "\n",
       "[46598 rows x 14 columns]"
      ]
     },
     "execution_count": 12,
     "metadata": {},
     "output_type": "execute_result"
    }
   ],
   "source": [
    "#dropping the duplicates\n",
    "df1.drop_duplicates()"
   ]
  },
  {
   "cell_type": "code",
   "execution_count": 13,
   "id": "2735c860",
   "metadata": {},
   "outputs": [],
   "source": [
    "#columns which has more than 50% missing values are dropped\n",
    "missing_percentage = df1.isnull().sum() / len(df)\n",
    "columns_to_drop = missing_percentage[missing_percentage > 0.5].index.tolist()\n",
    "df2 = df1.drop(columns=columns_to_drop)"
   ]
  },
  {
   "cell_type": "code",
   "execution_count": 14,
   "id": "598bba62",
   "metadata": {},
   "outputs": [
    {
     "data": {
      "text/plain": [
       "(46608, 13)"
      ]
     },
     "execution_count": 14,
     "metadata": {},
     "output_type": "execute_result"
    }
   ],
   "source": [
    "#room type removed having 50% of missing values\n",
    "df2.shape"
   ]
  },
  {
   "cell_type": "code",
   "execution_count": 15,
   "id": "76cf356b",
   "metadata": {},
   "outputs": [
    {
     "data": {
      "text/plain": [
       "Agent_id             0\n",
       "status               0\n",
       "lost_reason       3364\n",
       "budget            3700\n",
       "lease             2341\n",
       "source            5977\n",
       "source_city       8851\n",
       "source_country    8641\n",
       "utm_source          61\n",
       "utm_medium        3187\n",
       "des_city          2537\n",
       "des_country       2537\n",
       "lead_id              0\n",
       "dtype: int64"
      ]
     },
     "execution_count": 15,
     "metadata": {},
     "output_type": "execute_result"
    }
   ],
   "source": [
    "df2.isnull().sum() #null values are present"
   ]
  },
  {
   "cell_type": "code",
   "execution_count": 16,
   "id": "35e66ed6",
   "metadata": {},
   "outputs": [
    {
     "data": {
      "text/plain": [
       "Agent_id           0.000000\n",
       "status             0.000000\n",
       "lost_reason        7.217645\n",
       "budget             7.938551\n",
       "lease              5.022743\n",
       "source            12.823979\n",
       "source_city       18.990302\n",
       "source_country    18.539736\n",
       "utm_source         0.130879\n",
       "utm_medium         6.837882\n",
       "des_city           5.443272\n",
       "des_country        5.443272\n",
       "lead_id            0.000000\n",
       "dtype: float64"
      ]
     },
     "execution_count": 16,
     "metadata": {},
     "output_type": "execute_result"
    }
   ],
   "source": [
    "#lets percentage of calculate the missing values\n",
    "df2.isnull().mean()*100"
   ]
  },
  {
   "cell_type": "code",
   "execution_count": 17,
   "id": "3813e26a",
   "metadata": {},
   "outputs": [],
   "source": [
    "#As all are  categorical data so we can use mode imputation for missing values"
   ]
  },
  {
   "cell_type": "code",
   "execution_count": 18,
   "id": "27422685",
   "metadata": {},
   "outputs": [],
   "source": [
    "cols = [\"lost_reason\", \"budget\", \"lease\", \"source\", \"source_city\", \"source_country\", \"utm_source\", \"utm_medium\", \n",
    "        \"des_city\", \"des_country\"]\n",
    "for i in cols:\n",
    "    df2 = df2.fillna(df2[i].mode()[0])\n",
    "    "
   ]
  },
  {
   "cell_type": "code",
   "execution_count": 19,
   "id": "9914ef5c",
   "metadata": {},
   "outputs": [
    {
     "data": {
      "text/plain": [
       "Agent_id          0\n",
       "status            0\n",
       "lost_reason       0\n",
       "budget            0\n",
       "lease             0\n",
       "source            0\n",
       "source_city       0\n",
       "source_country    0\n",
       "utm_source        0\n",
       "utm_medium        0\n",
       "des_city          0\n",
       "des_country       0\n",
       "lead_id           0\n",
       "dtype: int64"
      ]
     },
     "execution_count": 19,
     "metadata": {},
     "output_type": "execute_result"
    }
   ],
   "source": [
    "df2.isnull().sum()# after mode imputation"
   ]
  },
  {
   "cell_type": "code",
   "execution_count": 20,
   "id": "f617649f",
   "metadata": {},
   "outputs": [
    {
     "data": {
      "text/plain": [
       "(46608, 13)"
      ]
     },
     "execution_count": 20,
     "metadata": {},
     "output_type": "execute_result"
    }
   ],
   "source": [
    "df2.shape"
   ]
  },
  {
   "cell_type": "code",
   "execution_count": 21,
   "id": "a5132b3c",
   "metadata": {},
   "outputs": [
    {
     "data": {
      "text/html": [
       "<div>\n",
       "<style scoped>\n",
       "    .dataframe tbody tr th:only-of-type {\n",
       "        vertical-align: middle;\n",
       "    }\n",
       "\n",
       "    .dataframe tbody tr th {\n",
       "        vertical-align: top;\n",
       "    }\n",
       "\n",
       "    .dataframe thead th {\n",
       "        text-align: right;\n",
       "    }\n",
       "</style>\n",
       "<table border=\"1\" class=\"dataframe\">\n",
       "  <thead>\n",
       "    <tr style=\"text-align: right;\">\n",
       "      <th></th>\n",
       "      <th>Agent_id</th>\n",
       "      <th>status</th>\n",
       "      <th>lost_reason</th>\n",
       "      <th>budget</th>\n",
       "      <th>lease</th>\n",
       "      <th>source</th>\n",
       "      <th>source_city</th>\n",
       "      <th>source_country</th>\n",
       "      <th>utm_source</th>\n",
       "      <th>utm_medium</th>\n",
       "      <th>des_city</th>\n",
       "      <th>des_country</th>\n",
       "      <th>lead_id</th>\n",
       "    </tr>\n",
       "  </thead>\n",
       "  <tbody>\n",
       "    <tr>\n",
       "      <th>0</th>\n",
       "      <td>1deba9e96f404694373de9749ddd1ca8aa7bb823145a6f...</td>\n",
       "      <td>LOST</td>\n",
       "      <td>Not responding</td>\n",
       "      <td>Low availability</td>\n",
       "      <td>Low availability</td>\n",
       "      <td>Low availability</td>\n",
       "      <td>Low availability</td>\n",
       "      <td>Low availability</td>\n",
       "      <td>3d59f7548e1af2151b64135003ce63c0a484c26b9b8b16...</td>\n",
       "      <td>268ad70eb5bc4737a2ae28162cbca30118cc94520e49ef...</td>\n",
       "      <td>ecc0e7dc084f141b29479058967d0bc07dee25d9690a98...</td>\n",
       "      <td>8d23a6e37e0a6431a8f1b43a91026dcff51170a89a6512...</td>\n",
       "      <td>cd5dc0d9393f3980d11d4ba6f88f8110c2b7a7f7796307...</td>\n",
       "    </tr>\n",
       "    <tr>\n",
       "      <th>1</th>\n",
       "      <td>299ae77a4ef350ae0dd37d6bba1c002d03444fb1edb236...</td>\n",
       "      <td>LOST</td>\n",
       "      <td>Low budget</td>\n",
       "      <td>Low availability</td>\n",
       "      <td>Low availability</td>\n",
       "      <td>Low availability</td>\n",
       "      <td>Low availability</td>\n",
       "      <td>Low availability</td>\n",
       "      <td>3d59f7548e1af2151b64135003ce63c0a484c26b9b8b16...</td>\n",
       "      <td>268ad70eb5bc4737a2ae28162cbca30118cc94520e49ef...</td>\n",
       "      <td>5372372f3bf5896820cb2819300c3e681820d82c6efc54...</td>\n",
       "      <td>8d23a6e37e0a6431a8f1b43a91026dcff51170a89a6512...</td>\n",
       "      <td>b94693673a5f7178d1b114e4004ad52377d3244dd24a3d...</td>\n",
       "    </tr>\n",
       "  </tbody>\n",
       "</table>\n",
       "</div>"
      ],
      "text/plain": [
       "                                            Agent_id status     lost_reason  \\\n",
       "0  1deba9e96f404694373de9749ddd1ca8aa7bb823145a6f...   LOST  Not responding   \n",
       "1  299ae77a4ef350ae0dd37d6bba1c002d03444fb1edb236...   LOST      Low budget   \n",
       "\n",
       "             budget             lease            source       source_city  \\\n",
       "0  Low availability  Low availability  Low availability  Low availability   \n",
       "1  Low availability  Low availability  Low availability  Low availability   \n",
       "\n",
       "     source_country                                         utm_source  \\\n",
       "0  Low availability  3d59f7548e1af2151b64135003ce63c0a484c26b9b8b16...   \n",
       "1  Low availability  3d59f7548e1af2151b64135003ce63c0a484c26b9b8b16...   \n",
       "\n",
       "                                          utm_medium  \\\n",
       "0  268ad70eb5bc4737a2ae28162cbca30118cc94520e49ef...   \n",
       "1  268ad70eb5bc4737a2ae28162cbca30118cc94520e49ef...   \n",
       "\n",
       "                                            des_city  \\\n",
       "0  ecc0e7dc084f141b29479058967d0bc07dee25d9690a98...   \n",
       "1  5372372f3bf5896820cb2819300c3e681820d82c6efc54...   \n",
       "\n",
       "                                         des_country  \\\n",
       "0  8d23a6e37e0a6431a8f1b43a91026dcff51170a89a6512...   \n",
       "1  8d23a6e37e0a6431a8f1b43a91026dcff51170a89a6512...   \n",
       "\n",
       "                                             lead_id  \n",
       "0  cd5dc0d9393f3980d11d4ba6f88f8110c2b7a7f7796307...  \n",
       "1  b94693673a5f7178d1b114e4004ad52377d3244dd24a3d...  "
      ]
     },
     "execution_count": 21,
     "metadata": {},
     "output_type": "execute_result"
    }
   ],
   "source": [
    "df2.head(2)"
   ]
  },
  {
   "cell_type": "code",
   "execution_count": 22,
   "id": "eb47483a",
   "metadata": {},
   "outputs": [],
   "source": [
    "#checking count of data in columns"
   ]
  },
  {
   "cell_type": "code",
   "execution_count": 23,
   "id": "4c4ddd54",
   "metadata": {},
   "outputs": [],
   "source": [
    "#dropping other than won and lost in status\n",
    "df2 = df2[df2['status'].isin(['WON', 'LOST'])]"
   ]
  },
  {
   "cell_type": "code",
   "execution_count": 24,
   "id": "8897da38",
   "metadata": {},
   "outputs": [
    {
     "data": {
      "text/plain": [
       "(46317, 13)"
      ]
     },
     "execution_count": 24,
     "metadata": {},
     "output_type": "execute_result"
    }
   ],
   "source": [
    "df2.shape"
   ]
  },
  {
   "cell_type": "code",
   "execution_count": 25,
   "id": "d489c117",
   "metadata": {},
   "outputs": [
    {
     "data": {
      "text/plain": [
       "LOST    43244\n",
       "WON      3073\n",
       "Name: status, dtype: int64"
      ]
     },
     "execution_count": 25,
     "metadata": {},
     "output_type": "execute_result"
    }
   ],
   "source": [
    "df2[\"status\"].value_counts()"
   ]
  },
  {
   "cell_type": "code",
   "execution_count": 26,
   "id": "de94dad1",
   "metadata": {},
   "outputs": [
    {
     "data": {
      "text/plain": [
       "LOST    93.365287\n",
       "WON      6.634713\n",
       "Name: status, dtype: float64"
      ]
     },
     "execution_count": 26,
     "metadata": {},
     "output_type": "execute_result"
    }
   ],
   "source": [
    "#percentage of lost and won data\n",
    "df2[\"status\"].value_counts()/len(df2)*100  #from this we say that highly imbalance the data"
   ]
  },
  {
   "cell_type": "code",
   "execution_count": 27,
   "id": "22f1ee55",
   "metadata": {},
   "outputs": [
    {
     "data": {
      "text/plain": [
       "<AxesSubplot:xlabel='status', ylabel='count'>"
      ]
     },
     "execution_count": 27,
     "metadata": {},
     "output_type": "execute_result"
    },
    {
     "data": {
      "image/png": "[encoded data removed]",
      "text/plain": [
       "<Figure size 640x480 with 1 Axes>"
      ]
     },
     "metadata": {},
     "output_type": "display_data"
    }
   ],
   "source": [
    "sns.countplot(df2[\"status\"]) #highly imbalanced data"
   ]
  },
  {
   "cell_type": "code",
   "execution_count": 28,
   "id": "ed2e3082",
   "metadata": {},
   "outputs": [
    {
     "name": "stdout",
     "output_type": "stream",
     "text": [
      "Low availability                  11965\n",
      "Not responding                     7827\n",
      "Not interested                     6449\n",
      "Low budget                         5505\n",
      "Wants private accommodation        2781\n",
      "Short stay                         2264\n",
      "Not a student                      1518\n",
      "Just Enquiring                     1263\n",
      "Inadequate details                  827\n",
      "Semester stay                       817\n",
      "Booked with manager                 676\n",
      "Junk lead                           629\n",
      "Booked on campus accommodation      613\n",
      "Supply issue                        538\n",
      "No supply                           534\n",
      "Not serving in that region          411\n",
      "Repeat lead                         394\n",
      "Booked with competitor              356\n",
      "Not going to university             329\n",
      "Distance issue                      219\n",
      "Junk lead/ Just Enquiring           147\n",
      "Lead issue                          127\n",
      "Looking for admission                41\n",
      "Didn't respond in time               35\n",
      "Visa/admission denied                17\n",
      "Guarantor issue                      17\n",
      "Looking for Scholarship               8\n",
      "Looking for loan                      5\n",
      "Underage student                      4\n",
      "Cross sell                            1\n",
      "Name: lost_reason, dtype: int64\n"
     ]
    },
    {
     "data": {
      "text/plain": [
       "(array([ 0,  1,  2,  3,  4,  5,  6,  7,  8,  9, 10, 11, 12, 13, 14, 15, 16,\n",
       "        17, 18, 19, 20, 21, 22, 23, 24, 25, 26, 27, 28, 29]),\n",
       " [Text(0, 0, 'Not responding'),\n",
       "  Text(1, 0, 'Low budget'),\n",
       "  Text(2, 0, 'Junk lead'),\n",
       "  Text(3, 0, 'Wants private accommodation'),\n",
       "  Text(4, 0, 'Short stay'),\n",
       "  Text(5, 0, 'Booked with manager'),\n",
       "  Text(6, 0, 'Low availability'),\n",
       "  Text(7, 0, 'Not interested'),\n",
       "  Text(8, 0, 'Just Enquiring'),\n",
       "  Text(9, 0, 'Distance issue'),\n",
       "  Text(10, 0, 'Not serving in that region'),\n",
       "  Text(11, 0, 'No supply'),\n",
       "  Text(12, 0, 'Repeat lead'),\n",
       "  Text(13, 0, 'Not a student'),\n",
       "  Text(14, 0, 'Semester stay'),\n",
       "  Text(15, 0, 'Supply issue'),\n",
       "  Text(16, 0, 'Visa/admission denied'),\n",
       "  Text(17, 0, 'Inadequate details'),\n",
       "  Text(18, 0, 'Booked with competitor'),\n",
       "  Text(19, 0, 'Not going to university'),\n",
       "  Text(20, 0, 'Junk lead/ Just Enquiring'),\n",
       "  Text(21, 0, 'Lead issue'),\n",
       "  Text(22, 0, 'Booked on campus accommodation'),\n",
       "  Text(23, 0, 'Looking for admission'),\n",
       "  Text(24, 0, 'Underage student'),\n",
       "  Text(25, 0, 'Guarantor issue'),\n",
       "  Text(26, 0, \"Didn't respond in time\"),\n",
       "  Text(27, 0, 'Looking for loan'),\n",
       "  Text(28, 0, 'Looking for Scholarship'),\n",
       "  Text(29, 0, 'Cross sell')])"
      ]
     },
     "execution_count": 28,
     "metadata": {},
     "output_type": "execute_result"
    },
    {
     "data": {
      "image/png": "[encoded data removed]",
      "text/plain": [
       "<Figure size 640x480 with 1 Axes>"
      ]
     },
     "metadata": {},
     "output_type": "display_data"
    }
   ],
   "source": [
    "print(df2[\"lost_reason\"].value_counts())\n",
    "sns.countplot(df2[\"lost_reason\"])\n",
    "plt.xticks(rotation=90)"
   ]
  },
  {
   "cell_type": "code",
   "execution_count": 29,
   "id": "2d9f33ca",
   "metadata": {},
   "outputs": [
    {
     "name": "stdout",
     "output_type": "stream",
     "text": [
      "£60 - £120 Per week     9750\n",
      "£121 - £180 Per Week    8878\n",
      "0-0                     5719\n",
      "Low availability        3694\n",
      "£181 - £240 Per Week    2143\n",
      "                        ... \n",
      "250 Per Week               1\n",
      "0-80-100$                  1\n",
      "0-235                      1\n",
      "£120-160 Per Week          1\n",
      "0-500 PCM                  1\n",
      "Name: budget, Length: 1835, dtype: int64\n"
     ]
    }
   ],
   "source": [
    "print(df2[\"budget\"].value_counts())"
   ]
  },
  {
   "cell_type": "code",
   "execution_count": 30,
   "id": "d875eac5",
   "metadata": {},
   "outputs": [
    {
     "data": {
      "text/plain": [
       "1835"
      ]
     },
     "execution_count": 30,
     "metadata": {},
     "output_type": "execute_result"
    }
   ],
   "source": [
    "len(df2[\"budget\"].unique())"
   ]
  },
  {
   "cell_type": "code",
   "execution_count": 31,
   "id": "bd32b14a",
   "metadata": {},
   "outputs": [
    {
     "name": "stdout",
     "output_type": "stream",
     "text": [
      "Full Year Course Stay 40 - 44 weeks           11000\n",
      "0                                              7538\n",
      "Complete Education Year Stay 50 - 52 weeks     6451\n",
      "51                                             3952\n",
      "Semester Stay 20 - 24 weeks                    2753\n",
      "                                              ...  \n",
      "36-40 weeks                                       1\n",
      "12 month                                          1\n",
      "44 weeks/51 weeks                                 1\n",
      "full year stayt                                   1\n",
      "78                                                1\n",
      "Name: lease, Length: 312, dtype: int64\n"
     ]
    }
   ],
   "source": [
    "print(df2[\"lease\"].value_counts())"
   ]
  },
  {
   "cell_type": "code",
   "execution_count": 44,
   "id": "5b1e1dbd",
   "metadata": {},
   "outputs": [
    {
     "data": {
      "text/plain": [
       "312"
      ]
     },
     "execution_count": 44,
     "metadata": {},
     "output_type": "execute_result"
    }
   ],
   "source": [
    "#number of unique values\n",
    "len(df2[\"lease\"].unique())"
   ]
  },
  {
   "cell_type": "code",
   "execution_count": 32,
   "id": "f3bf6f36",
   "metadata": {},
   "outputs": [],
   "source": [
    "#creating label encoding\n",
    "le = LabelEncoder()"
   ]
  },
  {
   "cell_type": "code",
   "execution_count": 33,
   "id": "877ea8f4",
   "metadata": {},
   "outputs": [],
   "source": [
    "#taking all object columns and labelencoding on same\n",
    "for col in df2.columns:\n",
    "    if df2[col].dtype == 'object':\n",
    "        df2[col] = le.fit_transform(df2[col].astype(str))\n"
   ]
  },
  {
   "cell_type": "code",
   "execution_count": 34,
   "id": "8c7488ee",
   "metadata": {},
   "outputs": [
    {
     "name": "stdout",
     "output_type": "stream",
     "text": [
      "   Agent_id  status  lost_reason  budget  lease  source  source_city  \\\n",
      "0        12       0           21    1702    276     444         2718   \n",
      "1        20       0           16    1702    276     444         2718   \n",
      "\n",
      "   source_country  utm_source  utm_medium  des_city  des_country  lead_id  \n",
      "0             113           5          10       206            8    24421  \n",
      "1             113           5          10        74            8    22037  \n"
     ]
    }
   ],
   "source": [
    "print(df2.head(2))"
   ]
  },
  {
   "cell_type": "code",
   "execution_count": 35,
   "id": "77fdbb87",
   "metadata": {},
   "outputs": [
    {
     "data": {
      "text/plain": [
       "<AxesSubplot:>"
      ]
     },
     "execution_count": 35,
     "metadata": {},
     "output_type": "execute_result"
    },
    {
     "data": {
      "image/png": "[encoded data removed]",
      "text/plain": [
       "<Figure size 640x480 with 2 Axes>"
      ]
     },
     "metadata": {},
     "output_type": "display_data"
    }
   ],
   "source": [
    "sns.heatmap(df2.corr(), cmap='coolwarm', annot=True) #budget and lease intermidate correaltion (i.e. 0.67)"
   ]
  },
  {
   "cell_type": "code",
   "execution_count": 36,
   "id": "3fe3d1db",
   "metadata": {},
   "outputs": [],
   "source": [
    "#Its highly imbalanced data so lets use SMOTE technique to balance the data"
   ]
  },
  {
   "cell_type": "code",
   "execution_count": 37,
   "id": "e78e9c8a",
   "metadata": {},
   "outputs": [],
   "source": [
    "df2 = df2.drop([\"Agent_id\",\"lead_id\"], axis=1) #irrevalent columns"
   ]
  },
  {
   "cell_type": "code",
   "execution_count": 45,
   "id": "de253a4e",
   "metadata": {},
   "outputs": [
    {
     "name": "stdout",
     "output_type": "stream",
     "text": [
      "<class 'pandas.core.frame.DataFrame'>\n",
      "Int64Index: 46317 entries, 0 to 46607\n",
      "Data columns (total 11 columns):\n",
      " #   Column          Non-Null Count  Dtype\n",
      "---  ------          --------------  -----\n",
      " 0   status          46317 non-null  int32\n",
      " 1   lost_reason     46317 non-null  int32\n",
      " 2   budget          46317 non-null  int32\n",
      " 3   lease           46317 non-null  int32\n",
      " 4   source          46317 non-null  int32\n",
      " 5   source_city     46317 non-null  int32\n",
      " 6   source_country  46317 non-null  int32\n",
      " 7   utm_source      46317 non-null  int32\n",
      " 8   utm_medium      46317 non-null  int32\n",
      " 9   des_city        46317 non-null  int32\n",
      " 10  des_country     46317 non-null  int32\n",
      "dtypes: int32(11)\n",
      "memory usage: 3.3 MB\n"
     ]
    }
   ],
   "source": [
    "df2.info()"
   ]
  },
  {
   "cell_type": "code",
   "execution_count": 38,
   "id": "af3c7c2c",
   "metadata": {},
   "outputs": [],
   "source": [
    "X =df2.drop(\"status\", axis = 1)\n",
    "y = df2[\"status\"]"
   ]
  },
  {
   "cell_type": "code",
   "execution_count": 39,
   "id": "3c7073d7",
   "metadata": {},
   "outputs": [],
   "source": [
    "smt = SMOTETomek(sampling_strategy = \"not majority\", random_state=100)\n",
    "X1, y1 = smt.fit_resample(X, y)"
   ]
  },
  {
   "cell_type": "code",
   "execution_count": 40,
   "id": "a9d69ca3",
   "metadata": {},
   "outputs": [
    {
     "data": {
      "text/plain": [
       "((85498, 10), (85498,))"
      ]
     },
     "execution_count": 40,
     "metadata": {},
     "output_type": "execute_result"
    }
   ],
   "source": [
    "X1.shape , y1.shape"
   ]
  },
  {
   "cell_type": "code",
   "execution_count": 41,
   "id": "0cfd7d13",
   "metadata": {},
   "outputs": [],
   "source": [
    "#normalization formula \n",
    "def norm_func(i):                        \n",
    "    x = (i-i.min())/(i.max()-i.min())    \n",
    "    return(x)    \n",
    "df3 = norm_func(X1)"
   ]
  },
  {
   "cell_type": "code",
   "execution_count": 46,
   "id": "83d4840b",
   "metadata": {},
   "outputs": [],
   "source": [
    "final = pd.concat([df3,y1], axis = 1)"
   ]
  },
  {
   "cell_type": "code",
   "execution_count": 47,
   "id": "969f1220",
   "metadata": {},
   "outputs": [
    {
     "data": {
      "text/html": [
       "<div>\n",
       "<style scoped>\n",
       "    .dataframe tbody tr th:only-of-type {\n",
       "        vertical-align: middle;\n",
       "    }\n",
       "\n",
       "    .dataframe tbody tr th {\n",
       "        vertical-align: top;\n",
       "    }\n",
       "\n",
       "    .dataframe thead th {\n",
       "        text-align: right;\n",
       "    }\n",
       "</style>\n",
       "<table border=\"1\" class=\"dataframe\">\n",
       "  <thead>\n",
       "    <tr style=\"text-align: right;\">\n",
       "      <th></th>\n",
       "      <th>lost_reason</th>\n",
       "      <th>budget</th>\n",
       "      <th>lease</th>\n",
       "      <th>source</th>\n",
       "      <th>source_city</th>\n",
       "      <th>source_country</th>\n",
       "      <th>utm_source</th>\n",
       "      <th>utm_medium</th>\n",
       "      <th>des_city</th>\n",
       "      <th>des_country</th>\n",
       "      <th>status</th>\n",
       "    </tr>\n",
       "  </thead>\n",
       "  <tbody>\n",
       "    <tr>\n",
       "      <th>0</th>\n",
       "      <td>0.724138</td>\n",
       "      <td>0.928026</td>\n",
       "      <td>0.887460</td>\n",
       "      <td>0.651026</td>\n",
       "      <td>0.629896</td>\n",
       "      <td>0.614130</td>\n",
       "      <td>0.147059</td>\n",
       "      <td>0.158730</td>\n",
       "      <td>0.940639</td>\n",
       "      <td>0.571429</td>\n",
       "      <td>0</td>\n",
       "    </tr>\n",
       "    <tr>\n",
       "      <th>1</th>\n",
       "      <td>0.551724</td>\n",
       "      <td>0.928026</td>\n",
       "      <td>0.887460</td>\n",
       "      <td>0.651026</td>\n",
       "      <td>0.629896</td>\n",
       "      <td>0.614130</td>\n",
       "      <td>0.147059</td>\n",
       "      <td>0.158730</td>\n",
       "      <td>0.337900</td>\n",
       "      <td>0.571429</td>\n",
       "      <td>0</td>\n",
       "    </tr>\n",
       "    <tr>\n",
       "      <th>2</th>\n",
       "      <td>0.724138</td>\n",
       "      <td>0.954198</td>\n",
       "      <td>0.855305</td>\n",
       "      <td>0.502933</td>\n",
       "      <td>0.606952</td>\n",
       "      <td>0.902174</td>\n",
       "      <td>0.764706</td>\n",
       "      <td>0.047619</td>\n",
       "      <td>0.082192</td>\n",
       "      <td>0.571429</td>\n",
       "      <td>0</td>\n",
       "    </tr>\n",
       "    <tr>\n",
       "      <th>3</th>\n",
       "      <td>0.551724</td>\n",
       "      <td>0.005453</td>\n",
       "      <td>0.006431</td>\n",
       "      <td>0.744868</td>\n",
       "      <td>0.653071</td>\n",
       "      <td>0.902174</td>\n",
       "      <td>0.764706</td>\n",
       "      <td>0.047619</td>\n",
       "      <td>0.118721</td>\n",
       "      <td>0.571429</td>\n",
       "      <td>0</td>\n",
       "    </tr>\n",
       "    <tr>\n",
       "      <th>4</th>\n",
       "      <td>0.275862</td>\n",
       "      <td>0.928026</td>\n",
       "      <td>0.887460</td>\n",
       "      <td>0.651026</td>\n",
       "      <td>0.629896</td>\n",
       "      <td>0.614130</td>\n",
       "      <td>0.147059</td>\n",
       "      <td>0.158730</td>\n",
       "      <td>0.643836</td>\n",
       "      <td>0.714286</td>\n",
       "      <td>0</td>\n",
       "    </tr>\n",
       "    <tr>\n",
       "      <th>...</th>\n",
       "      <td>...</td>\n",
       "      <td>...</td>\n",
       "      <td>...</td>\n",
       "      <td>...</td>\n",
       "      <td>...</td>\n",
       "      <td>...</td>\n",
       "      <td>...</td>\n",
       "      <td>...</td>\n",
       "      <td>...</td>\n",
       "      <td>...</td>\n",
       "      <td>...</td>\n",
       "    </tr>\n",
       "    <tr>\n",
       "      <th>85493</th>\n",
       "      <td>0.517241</td>\n",
       "      <td>0.673937</td>\n",
       "      <td>0.196141</td>\n",
       "      <td>0.645161</td>\n",
       "      <td>0.630127</td>\n",
       "      <td>0.586957</td>\n",
       "      <td>0.235294</td>\n",
       "      <td>0.222222</td>\n",
       "      <td>0.063927</td>\n",
       "      <td>0.571429</td>\n",
       "      <td>1</td>\n",
       "    </tr>\n",
       "    <tr>\n",
       "      <th>85494</th>\n",
       "      <td>0.517241</td>\n",
       "      <td>0.983097</td>\n",
       "      <td>0.855305</td>\n",
       "      <td>0.502933</td>\n",
       "      <td>0.185863</td>\n",
       "      <td>0.168478</td>\n",
       "      <td>0.676471</td>\n",
       "      <td>0.333333</td>\n",
       "      <td>0.246575</td>\n",
       "      <td>0.571429</td>\n",
       "      <td>1</td>\n",
       "    </tr>\n",
       "    <tr>\n",
       "      <th>85495</th>\n",
       "      <td>0.517241</td>\n",
       "      <td>0.095965</td>\n",
       "      <td>0.633441</td>\n",
       "      <td>0.637830</td>\n",
       "      <td>0.629896</td>\n",
       "      <td>0.614130</td>\n",
       "      <td>0.264706</td>\n",
       "      <td>0.746032</td>\n",
       "      <td>0.420091</td>\n",
       "      <td>0.571429</td>\n",
       "      <td>1</td>\n",
       "    </tr>\n",
       "    <tr>\n",
       "      <th>85496</th>\n",
       "      <td>0.517241</td>\n",
       "      <td>0.418757</td>\n",
       "      <td>0.581994</td>\n",
       "      <td>0.781525</td>\n",
       "      <td>0.509849</td>\n",
       "      <td>0.668478</td>\n",
       "      <td>0.764706</td>\n",
       "      <td>0.047619</td>\n",
       "      <td>0.799087</td>\n",
       "      <td>0.571429</td>\n",
       "      <td>1</td>\n",
       "    </tr>\n",
       "    <tr>\n",
       "      <th>85497</th>\n",
       "      <td>0.517241</td>\n",
       "      <td>0.041439</td>\n",
       "      <td>0.501608</td>\n",
       "      <td>0.171554</td>\n",
       "      <td>0.629896</td>\n",
       "      <td>0.614130</td>\n",
       "      <td>0.264706</td>\n",
       "      <td>0.746032</td>\n",
       "      <td>0.904110</td>\n",
       "      <td>0.571429</td>\n",
       "      <td>1</td>\n",
       "    </tr>\n",
       "  </tbody>\n",
       "</table>\n",
       "<p>85498 rows × 11 columns</p>\n",
       "</div>"
      ],
      "text/plain": [
       "       lost_reason    budget     lease    source  source_city  source_country  \\\n",
       "0         0.724138  0.928026  0.887460  0.651026     0.629896        0.614130   \n",
       "1         0.551724  0.928026  0.887460  0.651026     0.629896        0.614130   \n",
       "2         0.724138  0.954198  0.855305  0.502933     0.606952        0.902174   \n",
       "3         0.551724  0.005453  0.006431  0.744868     0.653071        0.902174   \n",
       "4         0.275862  0.928026  0.887460  0.651026     0.629896        0.614130   \n",
       "...            ...       ...       ...       ...          ...             ...   \n",
       "85493     0.517241  0.673937  0.196141  0.645161     0.630127        0.586957   \n",
       "85494     0.517241  0.983097  0.855305  0.502933     0.185863        0.168478   \n",
       "85495     0.517241  0.095965  0.633441  0.637830     0.629896        0.614130   \n",
       "85496     0.517241  0.418757  0.581994  0.781525     0.509849        0.668478   \n",
       "85497     0.517241  0.041439  0.501608  0.171554     0.629896        0.614130   \n",
       "\n",
       "       utm_source  utm_medium  des_city  des_country  status  \n",
       "0        0.147059    0.158730  0.940639     0.571429       0  \n",
       "1        0.147059    0.158730  0.337900     0.571429       0  \n",
       "2        0.764706    0.047619  0.082192     0.571429       0  \n",
       "3        0.764706    0.047619  0.118721     0.571429       0  \n",
       "4        0.147059    0.158730  0.643836     0.714286       0  \n",
       "...           ...         ...       ...          ...     ...  \n",
       "85493    0.235294    0.222222  0.063927     0.571429       1  \n",
       "85494    0.676471    0.333333  0.246575     0.571429       1  \n",
       "85495    0.264706    0.746032  0.420091     0.571429       1  \n",
       "85496    0.764706    0.047619  0.799087     0.571429       1  \n",
       "85497    0.264706    0.746032  0.904110     0.571429       1  \n",
       "\n",
       "[85498 rows x 11 columns]"
      ]
     },
     "execution_count": 47,
     "metadata": {},
     "output_type": "execute_result"
    }
   ],
   "source": [
    "final"
   ]
  },
  {
   "cell_type": "code",
   "execution_count": 48,
   "id": "c71bd5a1",
   "metadata": {},
   "outputs": [
    {
     "data": {
      "text/plain": [
       "0    42749\n",
       "1    42749\n",
       "Name: status, dtype: int64"
      ]
     },
     "execution_count": 48,
     "metadata": {},
     "output_type": "execute_result"
    }
   ],
   "source": [
    "final[\"status\"].value_counts()"
   ]
  },
  {
   "cell_type": "code",
   "execution_count": 49,
   "id": "85cc1dce",
   "metadata": {},
   "outputs": [],
   "source": [
    "X2 = final.drop([\"status\"], axis = 1)\n",
    "y2 = final['status']"
   ]
  },
  {
   "cell_type": "code",
   "execution_count": 50,
   "id": "4f6422d1",
   "metadata": {},
   "outputs": [
    {
     "data": {
      "text/plain": [
       "((85498, 10), (85498,))"
      ]
     },
     "execution_count": 50,
     "metadata": {},
     "output_type": "execute_result"
    }
   ],
   "source": [
    "X2.shape , y2.shape"
   ]
  },
  {
   "cell_type": "code",
   "execution_count": 51,
   "id": "4e0c45dd",
   "metadata": {},
   "outputs": [],
   "source": [
    "#Splitting the data into test and train\n",
    "X_train, X_test, y_train, y_test = train_test_split(X2, y2, test_size=0.2)"
   ]
  },
  {
   "cell_type": "markdown",
   "id": "13f29326",
   "metadata": {},
   "source": [
    "# Logistic Regression model"
   ]
  },
  {
   "cell_type": "code",
   "execution_count": 57,
   "id": "81aedfe7",
   "metadata": {},
   "outputs": [
    {
     "name": "stdout",
     "output_type": "stream",
     "text": [
      "Accuracy: 0.7667251461988304\n",
      "Precision: 0.7202803917802958\n",
      "Recall: 0.8745482103299522\n",
      "F1_score: 0.7202803917802958\n",
      "AUC-ROC: 0.7663835736619842\n"
     ]
    }
   ],
   "source": [
    "# Fitting on  Logistic Regression model\n",
    "param = LogisticRegression(penalty='l2', C=3.0, solver='lbfgs', max_iter=1000)\n",
    "param.fit(X_train, y_train)\n",
    "# predictions on test data\n",
    "y_pred_param = param.predict(X_test)\n",
    "# Evaluation metrics\n",
    "print(\"Accuracy:\", accuracy_score(y_test, y_pred_param))\n",
    "print(\"Precision:\", precision_score(y_test, y_pred_param))\n",
    "print(\"Recall:\", recall_score(y_test, y_pred_param))\n",
    "print(\"F1_score:\", precision_score(y_test, y_pred_param))"
   ]
  },
  {
   "cell_type": "markdown",
   "id": "df38fef6",
   "metadata": {},
   "source": [
    "# KNN"
   ]
  },
  {
   "cell_type": "code",
   "execution_count": 58,
   "id": "f0382c58",
   "metadata": {},
   "outputs": [
    {
     "name": "stdout",
     "output_type": "stream",
     "text": [
      "Accuracy: 0.9582456140350877\n",
      "Precision: 0.9544561322390475\n",
      "Recall: 0.962690917570246\n",
      "F1_score: 0.9544561322390475\n"
     ]
    }
   ],
   "source": [
    "#Fitting on KNN\n",
    "param1 = KNeighborsClassifier(n_neighbors=2, weights='uniform', algorithm='auto', metric='minkowski')\n",
    "param1.fit(X_train, y_train)\n",
    "#predictions on test data\n",
    "y_pred_param1 = param1.predict(X_test)\n",
    "# Evaluation metrics\n",
    "print(\"Accuracy:\", accuracy_score(y_test, y_pred_param1))\n",
    "print(\"Precision:\", precision_score(y_test, y_pred_param1))\n",
    "print(\"Recall:\", recall_score(y_test, y_pred_param1))\n",
    "print(\"F1_score:\", precision_score(y_test, y_pred_param1))"
   ]
  },
  {
   "cell_type": "markdown",
   "id": "15e99d9d",
   "metadata": {},
   "source": [
    "# Decision Tree"
   ]
  },
  {
   "cell_type": "code",
   "execution_count": 59,
   "id": "d44ac911",
   "metadata": {},
   "outputs": [
    {
     "name": "stdout",
     "output_type": "stream",
     "text": [
      "Accuracy: 0.9729824561403508\n",
      "Precision: 0.9745059057420185\n",
      "Recall: 0.9715518246473126\n",
      "F1_score: 0.9745059057420185\n"
     ]
    }
   ],
   "source": [
    "#Fitting on decision tree\n",
    "param2 = DecisionTreeClassifier(criterion='entropy', splitter='best', max_depth=50, min_samples_split=5, min_samples_leaf=1)\n",
    "param2.fit(X_train, y_train)\n",
    "#predictions on test data\n",
    "y_pred_param2 = param2.predict(X_test)\n",
    "# Evaluation metrics\n",
    "print(\"Accuracy:\", accuracy_score(y_test, y_pred_param2))\n",
    "print(\"Precision:\", precision_score(y_test, y_pred_param2))\n",
    "print(\"Recall:\", recall_score(y_test, y_pred_param2))\n",
    "print(\"F1_score:\", precision_score(y_test, y_pred_param2))"
   ]
  },
  {
   "cell_type": "markdown",
   "id": "41e1b06c",
   "metadata": {},
   "source": [
    "# Random Forest  Model"
   ]
  },
  {
   "cell_type": "code",
   "execution_count": 61,
   "id": "7d85144b",
   "metadata": {},
   "outputs": [
    {
     "name": "stdout",
     "output_type": "stream",
     "text": [
      "Accuracy: 0.9847368421052631\n",
      "Precision: 0.9811386253182134\n",
      "Recall: 0.9885740935058879\n",
      "F1_score: 0.9811386253182134\n"
     ]
    }
   ],
   "source": [
    "#Fitting on random forest tree\n",
    "param3 = RandomForestClassifier(n_estimators=1000, criterion='entropy', max_depth=None, \n",
    "                                min_samples_split=2, min_samples_leaf=1, max_features='auto',\n",
    "                                bootstrap=True, oob_score=False)\n",
    "param3.fit(X_train, y_train)\n",
    "#predictions on test data\n",
    "y_pred_param3 = param3.predict(X_test)\n",
    "# Evaluation metrics\n",
    "print(\"Accuracy:\", accuracy_score(y_test, y_pred_param3))\n",
    "print(\"Precision:\", precision_score(y_test, y_pred_param3))\n",
    "print(\"Recall:\", recall_score(y_test, y_pred_param3))\n",
    "print(\"F1_score:\", precision_score(y_test, y_pred_param3))"
   ]
  },
  {
   "cell_type": "markdown",
   "id": "ae60b811",
   "metadata": {},
   "source": [
    "# Best fit model Random forest Model"
   ]
  },
  {
   "cell_type": "code",
   "execution_count": 62,
   "id": "6f4c972e",
   "metadata": {},
   "outputs": [],
   "source": [
    "# predicting the train label \n",
    "y_pred_train = param3.predict(X_train)"
   ]
  },
  {
   "cell_type": "code",
   "execution_count": 63,
   "id": "f1c72cae",
   "metadata": {},
   "outputs": [
    {
     "name": "stdout",
     "output_type": "stream",
     "text": [
      "              precision    recall  f1-score   support\n",
      "\n",
      "           0       1.00      1.00      1.00     34226\n",
      "           1       1.00      1.00      1.00     34172\n",
      "\n",
      "    accuracy                           1.00     68398\n",
      "   macro avg       1.00      1.00      1.00     68398\n",
      "weighted avg       1.00      1.00      1.00     68398\n",
      "\n"
     ]
    }
   ],
   "source": [
    "print(classification_report(y_train,y_pred_train))"
   ]
  },
  {
   "cell_type": "code",
   "execution_count": 64,
   "id": "cd59cb46",
   "metadata": {},
   "outputs": [
    {
     "name": "stdout",
     "output_type": "stream",
     "text": [
      "0.9991081611345476\n"
     ]
    }
   ],
   "source": [
    "print(f1_score(y_train,y_pred_train,average='weighted'))"
   ]
  },
  {
   "cell_type": "code",
   "execution_count": 65,
   "id": "00146cb2",
   "metadata": {},
   "outputs": [
    {
     "name": "stdout",
     "output_type": "stream",
     "text": [
      "[0.         0.00102261 1.        ]\n",
      "[0.         0.99923914 1.        ]\n",
      "[2 1 0]\n"
     ]
    }
   ],
   "source": [
    "train_fpr,train_tpr,train_threshold = roc_curve(y_train,y_pred_train)\n",
    "print(train_fpr)\n",
    "print(train_tpr)\n",
    "print(train_threshold)"
   ]
  },
  {
   "cell_type": "code",
   "execution_count": 67,
   "id": "a7910fcd",
   "metadata": {},
   "outputs": [],
   "source": [
    "#Now predicting on test data"
   ]
  },
  {
   "cell_type": "code",
   "execution_count": 68,
   "id": "a48ec1ec",
   "metadata": {},
   "outputs": [],
   "source": [
    "y_pred_test = param3.predict(X_test)"
   ]
  },
  {
   "cell_type": "code",
   "execution_count": 69,
   "id": "5bc06668",
   "metadata": {},
   "outputs": [
    {
     "name": "stdout",
     "output_type": "stream",
     "text": [
      "              precision    recall  f1-score   support\n",
      "\n",
      "           0       0.99      0.98      0.98      8523\n",
      "           1       0.98      0.99      0.98      8577\n",
      "\n",
      "    accuracy                           0.98     17100\n",
      "   macro avg       0.98      0.98      0.98     17100\n",
      "weighted avg       0.98      0.98      0.98     17100\n",
      "\n"
     ]
    }
   ],
   "source": [
    "print(classification_report(y_test,y_pred_test))"
   ]
  },
  {
   "cell_type": "code",
   "execution_count": 70,
   "id": "eabed5c2",
   "metadata": {},
   "outputs": [
    {
     "name": "stdout",
     "output_type": "stream",
     "text": [
      "0.9847364383357475\n"
     ]
    }
   ],
   "source": [
    "print(f1_score(y_test,y_pred_test,average='weighted'))"
   ]
  },
  {
   "cell_type": "code",
   "execution_count": 71,
   "id": "f5c196e3",
   "metadata": {},
   "outputs": [
    {
     "name": "stdout",
     "output_type": "stream",
     "text": [
      "[0.         0.01912472 1.        ]\n",
      "[0.         0.98857409 1.        ]\n",
      "[2 1 0]\n"
     ]
    }
   ],
   "source": [
    "train_fpr2,train_tpr2,train_threshold2 = roc_curve(y_test,y_pred_test)\n",
    "print(train_fpr2)\n",
    "print(train_tpr2)\n",
    "print(train_threshold2)"
   ]
  },
  {
   "cell_type": "code",
   "execution_count": 72,
   "id": "d91f22f5",
   "metadata": {},
   "outputs": [
    {
     "data": {
      "text/plain": [
       "[<matplotlib.lines.Line2D at 0x1fbec602370>]"
      ]
     },
     "execution_count": 72,
     "metadata": {},
     "output_type": "execute_result"
    },
    {
     "data": {
      "image/png": "[encoded data removed]",
      "text/plain": [
       "<Figure size 500x500 with 1 Axes>"
      ]
     },
     "metadata": {},
     "output_type": "display_data"
    }
   ],
   "source": [
    "plt.figure(figsize=(5,5))\n",
    "plt.plot(train_fpr2,train_tpr2)"
   ]
  },
  {
   "cell_type": "code",
   "execution_count": null,
   "id": "d45c7174",
   "metadata": {},
   "outputs": [],
   "source": []
  },
  {
   "cell_type": "code",
   "execution_count": null,
   "id": "032e8dce",
   "metadata": {},
   "outputs": [],
   "source": []
  },
  {
   "cell_type": "code",
   "execution_count": null,
   "id": "8ce62327",
   "metadata": {},
   "outputs": [],
   "source": []
  }
 ],
 "metadata": {
  "kernelspec": {
   "display_name": "Python 3 (ipykernel)",
   "language": "python",
   "name": "python3"
  },
  "language_info": {
   "codemirror_mode": {
    "name": "ipython",
    "version": 3
   },
   "file_extension": ".py",
   "mimetype": "text/x-python",
   "name": "python",
   "nbconvert_exporter": "python",
   "pygments_lexer": "ipython3",
   "version": "3.9.13"
  }
 },
 "nbformat": 4,
 "nbformat_minor": 5
}
